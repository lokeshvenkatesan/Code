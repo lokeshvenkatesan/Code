{
  "nbformat": 4,
  "nbformat_minor": 0,
  "metadata": {
    "kernelspec": {
      "display_name": "Python 3",
      "language": "python",
      "name": "python3"
    },
    "language_info": {
      "codemirror_mode": {
        "name": "ipython",
        "version": 3
      },
      "file_extension": ".py",
      "mimetype": "text/x-python",
      "name": "python",
      "nbconvert_exporter": "python",
      "pygments_lexer": "ipython3",
      "version": "3.7.3"
    },
    "colab": {
      "name": "Covid_19_week _1 _forecasting.ipynb",
      "provenance": [],
      "include_colab_link": true
    }
  },
  "cells": [
    {
      "cell_type": "markdown",
      "metadata": {
        "id": "view-in-github",
        "colab_type": "text"
      },
      "source": [
        "<a href=\"https://colab.research.google.com/github/lokeshvenkatesan/Code/blob/master/Covid_19_week__1__forecasting.ipynb\" target=\"_parent\"><img src=\"https://colab.research.google.com/assets/colab-badge.svg\" alt=\"Open In Colab\"/></a>"
      ]
    },
    {
      "cell_type": "code",
      "metadata": {
        "id": "BXYu-lZm9rwn",
        "colab_type": "code",
        "outputId": "439ae1b0-feaa-4635-97d1-4e8c816fec97",
        "colab": {
          "base_uri": "https://localhost:8080/",
          "height": 71
        }
      },
      "source": [
        "## Importing Python libraries\n",
        "import numpy as np\n",
        "import pandas as pd\n",
        "import matplotlib.pyplot as plt\n",
        "import seaborn as sns\n",
        "sns.set()"
      ],
      "execution_count": 0,
      "outputs": [
        {
          "output_type": "stream",
          "text": [
            "/usr/local/lib/python3.6/dist-packages/statsmodels/tools/_testing.py:19: FutureWarning: pandas.util.testing is deprecated. Use the functions in the public API at pandas.testing instead.\n",
            "  import pandas.util.testing as tm\n"
          ],
          "name": "stderr"
        }
      ]
    },
    {
      "cell_type": "code",
      "metadata": {
        "id": "miCJrqZ09rw9",
        "colab_type": "code",
        "colab": {}
      },
      "source": [
        "## Importing data from the local disk\n",
        "train=pd.read_csv('train (1).csv')\n",
        "test=pd.read_csv('test (1).csv')"
      ],
      "execution_count": 0,
      "outputs": []
    },
    {
      "cell_type": "code",
      "metadata": {
        "id": "sgtIGCL-9rxI",
        "colab_type": "code",
        "outputId": "f5cc02c2-9057-41c3-87a0-d382768c8eb1",
        "colab": {
          "base_uri": "https://localhost:8080/",
          "height": 204
        }
      },
      "source": [
        "train.head()"
      ],
      "execution_count": 0,
      "outputs": [
        {
          "output_type": "execute_result",
          "data": {
            "text/html": [
              "<div>\n",
              "<style scoped>\n",
              "    .dataframe tbody tr th:only-of-type {\n",
              "        vertical-align: middle;\n",
              "    }\n",
              "\n",
              "    .dataframe tbody tr th {\n",
              "        vertical-align: top;\n",
              "    }\n",
              "\n",
              "    .dataframe thead th {\n",
              "        text-align: right;\n",
              "    }\n",
              "</style>\n",
              "<table border=\"1\" class=\"dataframe\">\n",
              "  <thead>\n",
              "    <tr style=\"text-align: right;\">\n",
              "      <th></th>\n",
              "      <th>Id</th>\n",
              "      <th>Province/State</th>\n",
              "      <th>Country/Region</th>\n",
              "      <th>Lat</th>\n",
              "      <th>Long</th>\n",
              "      <th>Date</th>\n",
              "      <th>ConfirmedCases</th>\n",
              "      <th>Fatalities</th>\n",
              "    </tr>\n",
              "  </thead>\n",
              "  <tbody>\n",
              "    <tr>\n",
              "      <th>0</th>\n",
              "      <td>1</td>\n",
              "      <td>NaN</td>\n",
              "      <td>Afghanistan</td>\n",
              "      <td>33.0</td>\n",
              "      <td>65.0</td>\n",
              "      <td>2020-01-22</td>\n",
              "      <td>0.0</td>\n",
              "      <td>0.0</td>\n",
              "    </tr>\n",
              "    <tr>\n",
              "      <th>1</th>\n",
              "      <td>2</td>\n",
              "      <td>NaN</td>\n",
              "      <td>Afghanistan</td>\n",
              "      <td>33.0</td>\n",
              "      <td>65.0</td>\n",
              "      <td>2020-01-23</td>\n",
              "      <td>0.0</td>\n",
              "      <td>0.0</td>\n",
              "    </tr>\n",
              "    <tr>\n",
              "      <th>2</th>\n",
              "      <td>3</td>\n",
              "      <td>NaN</td>\n",
              "      <td>Afghanistan</td>\n",
              "      <td>33.0</td>\n",
              "      <td>65.0</td>\n",
              "      <td>2020-01-24</td>\n",
              "      <td>0.0</td>\n",
              "      <td>0.0</td>\n",
              "    </tr>\n",
              "    <tr>\n",
              "      <th>3</th>\n",
              "      <td>4</td>\n",
              "      <td>NaN</td>\n",
              "      <td>Afghanistan</td>\n",
              "      <td>33.0</td>\n",
              "      <td>65.0</td>\n",
              "      <td>2020-01-25</td>\n",
              "      <td>0.0</td>\n",
              "      <td>0.0</td>\n",
              "    </tr>\n",
              "    <tr>\n",
              "      <th>4</th>\n",
              "      <td>5</td>\n",
              "      <td>NaN</td>\n",
              "      <td>Afghanistan</td>\n",
              "      <td>33.0</td>\n",
              "      <td>65.0</td>\n",
              "      <td>2020-01-26</td>\n",
              "      <td>0.0</td>\n",
              "      <td>0.0</td>\n",
              "    </tr>\n",
              "  </tbody>\n",
              "</table>\n",
              "</div>"
            ],
            "text/plain": [
              "   Id Province/State Country/Region  ...        Date  ConfirmedCases Fatalities\n",
              "0   1            NaN    Afghanistan  ...  2020-01-22             0.0        0.0\n",
              "1   2            NaN    Afghanistan  ...  2020-01-23             0.0        0.0\n",
              "2   3            NaN    Afghanistan  ...  2020-01-24             0.0        0.0\n",
              "3   4            NaN    Afghanistan  ...  2020-01-25             0.0        0.0\n",
              "4   5            NaN    Afghanistan  ...  2020-01-26             0.0        0.0\n",
              "\n",
              "[5 rows x 8 columns]"
            ]
          },
          "metadata": {
            "tags": []
          },
          "execution_count": 5
        }
      ]
    },
    {
      "cell_type": "markdown",
      "metadata": {
        "id": "1SLcDQnR9rxe",
        "colab_type": "raw"
      },
      "source": [
        "test.head("
      ]
    },
    {
      "cell_type": "code",
      "metadata": {
        "id": "wpLUDPcN9rxk",
        "colab_type": "code",
        "outputId": "e3497833-4dbd-4383-b311-80224effd21b",
        "colab": {
          "base_uri": "https://localhost:8080/",
          "height": 204
        }
      },
      "source": [
        "test.head()"
      ],
      "execution_count": 0,
      "outputs": [
        {
          "output_type": "execute_result",
          "data": {
            "text/html": [
              "<div>\n",
              "<style scoped>\n",
              "    .dataframe tbody tr th:only-of-type {\n",
              "        vertical-align: middle;\n",
              "    }\n",
              "\n",
              "    .dataframe tbody tr th {\n",
              "        vertical-align: top;\n",
              "    }\n",
              "\n",
              "    .dataframe thead th {\n",
              "        text-align: right;\n",
              "    }\n",
              "</style>\n",
              "<table border=\"1\" class=\"dataframe\">\n",
              "  <thead>\n",
              "    <tr style=\"text-align: right;\">\n",
              "      <th></th>\n",
              "      <th>ForecastId</th>\n",
              "      <th>Province/State</th>\n",
              "      <th>Country/Region</th>\n",
              "      <th>Lat</th>\n",
              "      <th>Long</th>\n",
              "      <th>Date</th>\n",
              "    </tr>\n",
              "  </thead>\n",
              "  <tbody>\n",
              "    <tr>\n",
              "      <th>0</th>\n",
              "      <td>1</td>\n",
              "      <td>NaN</td>\n",
              "      <td>Afghanistan</td>\n",
              "      <td>33.0</td>\n",
              "      <td>65.0</td>\n",
              "      <td>2020-03-12</td>\n",
              "    </tr>\n",
              "    <tr>\n",
              "      <th>1</th>\n",
              "      <td>2</td>\n",
              "      <td>NaN</td>\n",
              "      <td>Afghanistan</td>\n",
              "      <td>33.0</td>\n",
              "      <td>65.0</td>\n",
              "      <td>2020-03-13</td>\n",
              "    </tr>\n",
              "    <tr>\n",
              "      <th>2</th>\n",
              "      <td>3</td>\n",
              "      <td>NaN</td>\n",
              "      <td>Afghanistan</td>\n",
              "      <td>33.0</td>\n",
              "      <td>65.0</td>\n",
              "      <td>2020-03-14</td>\n",
              "    </tr>\n",
              "    <tr>\n",
              "      <th>3</th>\n",
              "      <td>4</td>\n",
              "      <td>NaN</td>\n",
              "      <td>Afghanistan</td>\n",
              "      <td>33.0</td>\n",
              "      <td>65.0</td>\n",
              "      <td>2020-03-15</td>\n",
              "    </tr>\n",
              "    <tr>\n",
              "      <th>4</th>\n",
              "      <td>5</td>\n",
              "      <td>NaN</td>\n",
              "      <td>Afghanistan</td>\n",
              "      <td>33.0</td>\n",
              "      <td>65.0</td>\n",
              "      <td>2020-03-16</td>\n",
              "    </tr>\n",
              "  </tbody>\n",
              "</table>\n",
              "</div>"
            ],
            "text/plain": [
              "   ForecastId Province/State Country/Region   Lat  Long        Date\n",
              "0           1            NaN    Afghanistan  33.0  65.0  2020-03-12\n",
              "1           2            NaN    Afghanistan  33.0  65.0  2020-03-13\n",
              "2           3            NaN    Afghanistan  33.0  65.0  2020-03-14\n",
              "3           4            NaN    Afghanistan  33.0  65.0  2020-03-15\n",
              "4           5            NaN    Afghanistan  33.0  65.0  2020-03-16"
            ]
          },
          "metadata": {
            "tags": []
          },
          "execution_count": 6
        }
      ]
    },
    {
      "cell_type": "code",
      "metadata": {
        "id": "Ol-dpl8_9rx8",
        "colab_type": "code",
        "outputId": "62535649-906b-457d-bdd1-6992bcb0d708",
        "colab": {
          "base_uri": "https://localhost:8080/",
          "height": 34
        }
      },
      "source": [
        "train.shape"
      ],
      "execution_count": 0,
      "outputs": [
        {
          "output_type": "execute_result",
          "data": {
            "text/plain": [
              "(17040, 8)"
            ]
          },
          "metadata": {
            "tags": []
          },
          "execution_count": 7
        }
      ]
    },
    {
      "cell_type": "code",
      "metadata": {
        "id": "7B4gxtya9rya",
        "colab_type": "code",
        "outputId": "e804a3fb-b0ba-48b0-aebf-d32aa0fc6085",
        "colab": {
          "base_uri": "https://localhost:8080/",
          "height": 34
        }
      },
      "source": [
        "test.shape"
      ],
      "execution_count": 0,
      "outputs": [
        {
          "output_type": "execute_result",
          "data": {
            "text/plain": [
              "(12212, 6)"
            ]
          },
          "metadata": {
            "tags": []
          },
          "execution_count": 8
        }
      ]
    },
    {
      "cell_type": "code",
      "metadata": {
        "id": "mgtlMDX_9ryf",
        "colab_type": "code",
        "outputId": "0c23fef7-1eab-401a-9ed9-80f74be719ca",
        "colab": {}
      },
      "source": [
        "train.info()"
      ],
      "execution_count": 0,
      "outputs": [
        {
          "output_type": "stream",
          "text": [
            "<class 'pandas.core.frame.DataFrame'>\n",
            "RangeIndex: 17040 entries, 0 to 17039\n",
            "Data columns (total 8 columns):\n",
            "Id                17040 non-null int64\n",
            "Province/State    7800 non-null object\n",
            "Country/Region    17040 non-null object\n",
            "Lat               17040 non-null float64\n",
            "Long              17040 non-null float64\n",
            "Date              17040 non-null object\n",
            "ConfirmedCases    17040 non-null float64\n",
            "Fatalities        17040 non-null float64\n",
            "dtypes: float64(4), int64(1), object(3)\n",
            "memory usage: 1.0+ MB\n"
          ],
          "name": "stdout"
        }
      ]
    },
    {
      "cell_type": "code",
      "metadata": {
        "id": "PGo5qDUY9ry9",
        "colab_type": "code",
        "colab": {}
      },
      "source": [
        "from  datetime import datetime"
      ],
      "execution_count": 0,
      "outputs": []
    },
    {
      "cell_type": "code",
      "metadata": {
        "id": "aKbVFjS29rzY",
        "colab_type": "code",
        "colab": {}
      },
      "source": [
        "## Since we are forcasting globally we can drop Province/State. More over no. of entries is not even 50 % of the total entry\n",
        "train.drop(['Province/State'],axis=1,inplace=True)\n",
        "test.drop(['Province/State'],axis=1,inplace=True)"
      ],
      "execution_count": 0,
      "outputs": []
    },
    {
      "cell_type": "code",
      "metadata": {
        "id": "5JSlJmy79rze",
        "colab_type": "code",
        "outputId": "205ff9a1-6012-4fd1-948f-56aeff865833",
        "colab": {}
      },
      "source": [
        "train_confm_case=train.groupby('Date')['ConfirmedCases'].sum()\n",
        "train_confm_case.head()"
      ],
      "execution_count": 0,
      "outputs": [
        {
          "output_type": "execute_result",
          "data": {
            "text/plain": [
              "Date\n",
              "2020-01-22     554.0\n",
              "2020-01-23     652.0\n",
              "2020-01-24     939.0\n",
              "2020-01-25    1432.0\n",
              "2020-01-26    2113.0\n",
              "Name: ConfirmedCases, dtype: float64"
            ]
          },
          "metadata": {
            "tags": []
          },
          "execution_count": 10
        }
      ]
    },
    {
      "cell_type": "code",
      "metadata": {
        "id": "Ptiez3Wr9rzy",
        "colab_type": "code",
        "outputId": "e2cec2f1-485c-439d-d170-3cfe8861e8bb",
        "colab": {}
      },
      "source": [
        "plt.figure(figsize=(12,6))\n",
        "train_confm_case.plot()\n",
        "plt.ylabel('No. of confirm case')\n",
        "plt.legend(['Line graph for Confirm cases'])"
      ],
      "execution_count": 0,
      "outputs": [
        {
          "output_type": "execute_result",
          "data": {
            "text/plain": [
              "<matplotlib.legend.Legend at 0x225f5a0e8d0>"
            ]
          },
          "metadata": {
            "tags": []
          },
          "execution_count": 33
        },
        {
          "output_type": "display_data",
          "data": {
            "image/png": "[encoded data removed]",
            "text/plain": [
              "<Figure size 864x432 with 1 Axes>"
            ]
          },
          "metadata": {
            "tags": [],
            "needs_background": "light"
          }
        }
      ]
    },
    {
      "cell_type": "markdown",
      "metadata": {
        "id": "-v224div9rz9",
        "colab_type": "text"
      },
      "source": [
        "OBSERVATION:\n",
        "<br> From the above graph we found that COVID-19 confirmed cases started recorded from Jan 22nd<br>\n",
        "It keeps increase sharply since total confirm cases has contributed from other part of the world "
      ]
    },
    {
      "cell_type": "code",
      "metadata": {
        "id": "aYH6a1bg9r0N",
        "colab_type": "code",
        "outputId": "c342c629-8162-44d7-a60c-ace00c50c44c",
        "colab": {}
      },
      "source": [
        "train_confm_country=train.groupby(['Country/Region'])['ConfirmedCases'].sum().reset_index().sort_values('ConfirmedCases',ascending=False)\n",
        "print(train_confm_country.head(10))"
      ],
      "execution_count": 0,
      "outputs": [
        {
          "output_type": "stream",
          "text": [
            "    Country/Region  ConfirmedCases\n",
            "29           China       3368333.0\n",
            "75           Italy        379683.0\n",
            "71            Iran        209494.0\n",
            "82    Korea, South        163905.0\n",
            "139          Spain        128664.0\n",
            "55         Germany        111228.0\n",
            "154             US         90121.0\n",
            "50          France         86281.0\n",
            "144    Switzerland         31923.0\n",
            "36     Cruise Ship         24804.0\n"
          ],
          "name": "stdout"
        }
      ]
    },
    {
      "cell_type": "code",
      "metadata": {
        "scrolled": false,
        "id": "eGG9WMQP9r0R",
        "colab_type": "code",
        "outputId": "f71e5c0c-2c29-4235-9ee2-f4a1630829ef",
        "colab": {}
      },
      "source": [
        "plt.figure(figsize=(12,6))\n",
        "plt.bar(train_confm_country['Country/Region'][:10],train_confm_country['ConfirmedCases'][:10])"
      ],
      "execution_count": 0,
      "outputs": [
        {
          "output_type": "execute_result",
          "data": {
            "text/plain": [
              "<BarContainer object of 10 artists>"
            ]
          },
          "metadata": {
            "tags": []
          },
          "execution_count": 13
        },
        {
          "output_type": "display_data",
          "data": {
            "image/png": "[encoded data removed]",
            "text/plain": [
              "<Figure size 864x432 with 1 Axes>"
            ]
          },
          "metadata": {
            "tags": [],
            "needs_background": "light"
          }
        }
      ]
    },
    {
      "cell_type": "markdown",
      "metadata": {
        "id": "jZ--5wmw9r0i",
        "colab_type": "text"
      },
      "source": [
        "Observation: \n",
        "<br> 1) We found from the above graph that, China is having more confirm cases ,followed by Italy and Iran"
      ]
    },
    {
      "cell_type": "code",
      "metadata": {
        "id": "vgwqnJem9r0j",
        "colab_type": "code",
        "outputId": "eb973e35-040a-4b26-d8c1-ad050fcc5307",
        "colab": {}
      },
      "source": [
        "train_confrm_india=train[train['Country/Region']=='India']\n",
        "train_confrm_india.head()"
      ],
      "execution_count": 0,
      "outputs": [
        {
          "output_type": "execute_result",
          "data": {
            "text/html": [
              "<div>\n",
              "<style scoped>\n",
              "    .dataframe tbody tr th:only-of-type {\n",
              "        vertical-align: middle;\n",
              "    }\n",
              "\n",
              "    .dataframe tbody tr th {\n",
              "        vertical-align: top;\n",
              "    }\n",
              "\n",
              "    .dataframe thead th {\n",
              "        text-align: right;\n",
              "    }\n",
              "</style>\n",
              "<table border=\"1\" class=\"dataframe\">\n",
              "  <thead>\n",
              "    <tr style=\"text-align: right;\">\n",
              "      <th></th>\n",
              "      <th>Id</th>\n",
              "      <th>Country/Region</th>\n",
              "      <th>Lat</th>\n",
              "      <th>Long</th>\n",
              "      <th>Date</th>\n",
              "      <th>ConfirmedCases</th>\n",
              "      <th>Fatalities</th>\n",
              "    </tr>\n",
              "  </thead>\n",
              "  <tbody>\n",
              "    <tr>\n",
              "      <th>7620</th>\n",
              "      <td>11812</td>\n",
              "      <td>India</td>\n",
              "      <td>21.0</td>\n",
              "      <td>78.0</td>\n",
              "      <td>2020-01-22</td>\n",
              "      <td>0.0</td>\n",
              "      <td>0.0</td>\n",
              "    </tr>\n",
              "    <tr>\n",
              "      <th>7621</th>\n",
              "      <td>11813</td>\n",
              "      <td>India</td>\n",
              "      <td>21.0</td>\n",
              "      <td>78.0</td>\n",
              "      <td>2020-01-23</td>\n",
              "      <td>0.0</td>\n",
              "      <td>0.0</td>\n",
              "    </tr>\n",
              "    <tr>\n",
              "      <th>7622</th>\n",
              "      <td>11814</td>\n",
              "      <td>India</td>\n",
              "      <td>21.0</td>\n",
              "      <td>78.0</td>\n",
              "      <td>2020-01-24</td>\n",
              "      <td>0.0</td>\n",
              "      <td>0.0</td>\n",
              "    </tr>\n",
              "    <tr>\n",
              "      <th>7623</th>\n",
              "      <td>11815</td>\n",
              "      <td>India</td>\n",
              "      <td>21.0</td>\n",
              "      <td>78.0</td>\n",
              "      <td>2020-01-25</td>\n",
              "      <td>0.0</td>\n",
              "      <td>0.0</td>\n",
              "    </tr>\n",
              "    <tr>\n",
              "      <th>7624</th>\n",
              "      <td>11816</td>\n",
              "      <td>India</td>\n",
              "      <td>21.0</td>\n",
              "      <td>78.0</td>\n",
              "      <td>2020-01-26</td>\n",
              "      <td>0.0</td>\n",
              "      <td>0.0</td>\n",
              "    </tr>\n",
              "  </tbody>\n",
              "</table>\n",
              "</div>"
            ],
            "text/plain": [
              "         Id Country/Region   Lat  Long        Date  ConfirmedCases  Fatalities\n",
              "7620  11812          India  21.0  78.0  2020-01-22             0.0         0.0\n",
              "7621  11813          India  21.0  78.0  2020-01-23             0.0         0.0\n",
              "7622  11814          India  21.0  78.0  2020-01-24             0.0         0.0\n",
              "7623  11815          India  21.0  78.0  2020-01-25             0.0         0.0\n",
              "7624  11816          India  21.0  78.0  2020-01-26             0.0         0.0"
            ]
          },
          "metadata": {
            "tags": []
          },
          "execution_count": 14
        }
      ]
    },
    {
      "cell_type": "code",
      "metadata": {
        "id": "k2012osH9r0q",
        "colab_type": "code",
        "outputId": "4a8e96b0-80d7-497f-8a46-df8476e9904d",
        "colab": {}
      },
      "source": [
        "train_confrm_india_case=train_confrm_india.groupby('Date')['ConfirmedCases'].sum()\n",
        "train_confrm_india_case.head()"
      ],
      "execution_count": 0,
      "outputs": [
        {
          "output_type": "execute_result",
          "data": {
            "text/plain": [
              "Date\n",
              "2020-01-22    0.0\n",
              "2020-01-23    0.0\n",
              "2020-01-24    0.0\n",
              "2020-01-25    0.0\n",
              "2020-01-26    0.0\n",
              "Name: ConfirmedCases, dtype: float64"
            ]
          },
          "metadata": {
            "tags": []
          },
          "execution_count": 15
        }
      ]
    },
    {
      "cell_type": "code",
      "metadata": {
        "scrolled": false,
        "id": "RFegbCxc9r06",
        "colab_type": "code",
        "outputId": "741dc51e-e44a-4436-d252-cf6edec5c079",
        "colab": {}
      },
      "source": [
        "plt.figure(figsize=(12,6))\n",
        "train_confrm_india_case.plot()\n",
        "plt.ylabel('COnfirm cases')\n",
        "plt.legend(['India: Confirm cases till 2020/03/22'])"
      ],
      "execution_count": 0,
      "outputs": [
        {
          "output_type": "execute_result",
          "data": {
            "text/plain": [
              "<matplotlib.legend.Legend at 0x225f4ef6d68>"
            ]
          },
          "metadata": {
            "tags": []
          },
          "execution_count": 16
        },
        {
          "output_type": "display_data",
          "data": {
            "image/png": "[encoded data removed]",
            "text/plain": [
              "<Figure size 864x432 with 1 Axes>"
            ]
          },
          "metadata": {
            "tags": [],
            "needs_background": "light"
          }
        }
      ]
    },
    {
      "cell_type": "markdown",
      "metadata": {
        "id": "M3azOKGQ9r1A",
        "colab_type": "text"
      },
      "source": [
        "Observation:<br>\n",
        "From the above graph we fond that India confirm COVID_19 cases from Feb 2nd, and continue with the same no. till March 1st\n",
        "<br> From 4th March ,no. of confirmed cases increases exponialtialy. Its shows that India is also closing toward Phase -3 "
      ]
    },
    {
      "cell_type": "code",
      "metadata": {
        "id": "dZghRMOz9r1B",
        "colab_type": "code",
        "outputId": "149f6e58-effd-4470-dc6a-94f110651cc6",
        "colab": {}
      },
      "source": [
        "train_confm_china=train[train['Country/Region']=='China']\n",
        "train_confm_china.head()"
      ],
      "execution_count": 0,
      "outputs": [
        {
          "output_type": "execute_result",
          "data": {
            "text/html": [
              "<div>\n",
              "<style scoped>\n",
              "    .dataframe tbody tr th:only-of-type {\n",
              "        vertical-align: middle;\n",
              "    }\n",
              "\n",
              "    .dataframe tbody tr th {\n",
              "        vertical-align: top;\n",
              "    }\n",
              "\n",
              "    .dataframe thead th {\n",
              "        text-align: right;\n",
              "    }\n",
              "</style>\n",
              "<table border=\"1\" class=\"dataframe\">\n",
              "  <thead>\n",
              "    <tr style=\"text-align: right;\">\n",
              "      <th></th>\n",
              "      <th>Id</th>\n",
              "      <th>Country/Region</th>\n",
              "      <th>Lat</th>\n",
              "      <th>Long</th>\n",
              "      <th>Date</th>\n",
              "      <th>ConfirmedCases</th>\n",
              "      <th>Fatalities</th>\n",
              "    </tr>\n",
              "  </thead>\n",
              "  <tbody>\n",
              "    <tr>\n",
              "      <th>2820</th>\n",
              "      <td>4372</td>\n",
              "      <td>China</td>\n",
              "      <td>31.8257</td>\n",
              "      <td>117.2264</td>\n",
              "      <td>2020-01-22</td>\n",
              "      <td>1.0</td>\n",
              "      <td>0.0</td>\n",
              "    </tr>\n",
              "    <tr>\n",
              "      <th>2821</th>\n",
              "      <td>4373</td>\n",
              "      <td>China</td>\n",
              "      <td>31.8257</td>\n",
              "      <td>117.2264</td>\n",
              "      <td>2020-01-23</td>\n",
              "      <td>9.0</td>\n",
              "      <td>0.0</td>\n",
              "    </tr>\n",
              "    <tr>\n",
              "      <th>2822</th>\n",
              "      <td>4374</td>\n",
              "      <td>China</td>\n",
              "      <td>31.8257</td>\n",
              "      <td>117.2264</td>\n",
              "      <td>2020-01-24</td>\n",
              "      <td>15.0</td>\n",
              "      <td>0.0</td>\n",
              "    </tr>\n",
              "    <tr>\n",
              "      <th>2823</th>\n",
              "      <td>4375</td>\n",
              "      <td>China</td>\n",
              "      <td>31.8257</td>\n",
              "      <td>117.2264</td>\n",
              "      <td>2020-01-25</td>\n",
              "      <td>39.0</td>\n",
              "      <td>0.0</td>\n",
              "    </tr>\n",
              "    <tr>\n",
              "      <th>2824</th>\n",
              "      <td>4376</td>\n",
              "      <td>China</td>\n",
              "      <td>31.8257</td>\n",
              "      <td>117.2264</td>\n",
              "      <td>2020-01-26</td>\n",
              "      <td>60.0</td>\n",
              "      <td>0.0</td>\n",
              "    </tr>\n",
              "  </tbody>\n",
              "</table>\n",
              "</div>"
            ],
            "text/plain": [
              "        Id Country/Region      Lat      Long        Date  ConfirmedCases  \\\n",
              "2820  4372          China  31.8257  117.2264  2020-01-22             1.0   \n",
              "2821  4373          China  31.8257  117.2264  2020-01-23             9.0   \n",
              "2822  4374          China  31.8257  117.2264  2020-01-24            15.0   \n",
              "2823  4375          China  31.8257  117.2264  2020-01-25            39.0   \n",
              "2824  4376          China  31.8257  117.2264  2020-01-26            60.0   \n",
              "\n",
              "      Fatalities  \n",
              "2820         0.0  \n",
              "2821         0.0  \n",
              "2822         0.0  \n",
              "2823         0.0  \n",
              "2824         0.0  "
            ]
          },
          "metadata": {
            "tags": []
          },
          "execution_count": 17
        }
      ]
    },
    {
      "cell_type": "code",
      "metadata": {
        "id": "Dp4qreGB9r1U",
        "colab_type": "code",
        "outputId": "ee2abd4f-20ec-43e6-87fd-284f3a38366a",
        "colab": {}
      },
      "source": [
        "train_confm_china_sort=train_confm_china.groupby('Date')['ConfirmedCases'].sum()\n",
        "train_confm_china_sort.head()"
      ],
      "execution_count": 0,
      "outputs": [
        {
          "output_type": "execute_result",
          "data": {
            "text/plain": [
              "Date\n",
              "2020-01-22     548.0\n",
              "2020-01-23     643.0\n",
              "2020-01-24     920.0\n",
              "2020-01-25    1406.0\n",
              "2020-01-26    2075.0\n",
              "Name: ConfirmedCases, dtype: float64"
            ]
          },
          "metadata": {
            "tags": []
          },
          "execution_count": 18
        }
      ]
    },
    {
      "cell_type": "code",
      "metadata": {
        "id": "qLgt6Asx9r1Y",
        "colab_type": "code",
        "outputId": "759a4d15-97d6-435c-cb9f-79edc5861866",
        "colab": {}
      },
      "source": [
        "plt.figure(figsize=(12,6))\n",
        "train_confm_china_sort.plot()\n",
        "plt.ylabel('No.of confirmed cases')\n",
        "plt.legend(['China: COnfirmed cases till 2020-03-22'])"
      ],
      "execution_count": 0,
      "outputs": [
        {
          "output_type": "execute_result",
          "data": {
            "text/plain": [
              "<matplotlib.legend.Legend at 0x225f4f56ba8>"
            ]
          },
          "metadata": {
            "tags": []
          },
          "execution_count": 19
        },
        {
          "output_type": "display_data",
          "data": {
            "image/png": "[encoded data removed]",
            "text/plain": [
              "<Figure size 864x432 with 1 Axes>"
            ]
          },
          "metadata": {
            "tags": [],
            "needs_background": "light"
          }
        }
      ]
    },
    {
      "cell_type": "code",
      "metadata": {
        "scrolled": false,
        "id": "Ucs-j5Rd9r1v",
        "colab_type": "code",
        "outputId": "e6d6f741-7f4a-42d3-ad15-fd9f30ca90e2",
        "colab": {}
      },
      "source": [
        "train_confm_italy=train[train['Country/Region']=='Italy']\n",
        "train_confm_italy_sort=train_confm_italy.groupby('Date')['ConfirmedCases'].sum()\n",
        "plt.figure(figsize=(12,6))\n",
        "train_confm_italy_sort.plot()\n",
        "plt.ylabel('No.of confirmed cases')\n",
        "plt.legend(['Italy: COnfirmed cases till 2020-03-22'])"
      ],
      "execution_count": 0,
      "outputs": [
        {
          "output_type": "execute_result",
          "data": {
            "text/plain": [
              "<matplotlib.legend.Legend at 0x225f4eb4898>"
            ]
          },
          "metadata": {
            "tags": []
          },
          "execution_count": 20
        },
        {
          "output_type": "display_data",
          "data": {
            "image/png": "[encoded data removed]",
            "text/plain": [
              "<Figure size 864x432 with 1 Axes>"
            ]
          },
          "metadata": {
            "tags": [],
            "needs_background": "light"
          }
        }
      ]
    },
    {
      "cell_type": "code",
      "metadata": {
        "scrolled": true,
        "id": "41wFBlih9r2F",
        "colab_type": "code",
        "outputId": "df154a4b-a82c-475f-e7de-b285c03975e4",
        "colab": {}
      },
      "source": [
        "train_daily_report=train.groupby('Date').sum()\n",
        "train_daily_report.head()"
      ],
      "execution_count": 0,
      "outputs": [
        {
          "output_type": "execute_result",
          "data": {
            "text/html": [
              "<div>\n",
              "<style scoped>\n",
              "    .dataframe tbody tr th:only-of-type {\n",
              "        vertical-align: middle;\n",
              "    }\n",
              "\n",
              "    .dataframe tbody tr th {\n",
              "        vertical-align: top;\n",
              "    }\n",
              "\n",
              "    .dataframe thead th {\n",
              "        text-align: right;\n",
              "    }\n",
              "</style>\n",
              "<table border=\"1\" class=\"dataframe\">\n",
              "  <thead>\n",
              "    <tr style=\"text-align: right;\">\n",
              "      <th></th>\n",
              "      <th>Id</th>\n",
              "      <th>Lat</th>\n",
              "      <th>Long</th>\n",
              "      <th>ConfirmedCases</th>\n",
              "      <th>Fatalities</th>\n",
              "    </tr>\n",
              "    <tr>\n",
              "      <th>Date</th>\n",
              "      <th></th>\n",
              "      <th></th>\n",
              "      <th></th>\n",
              "      <th></th>\n",
              "      <th></th>\n",
              "    </tr>\n",
              "  </thead>\n",
              "  <tbody>\n",
              "    <tr>\n",
              "      <th>2020-01-22</th>\n",
              "      <td>3737582</td>\n",
              "      <td>7465.7049</td>\n",
              "      <td>1353.5983</td>\n",
              "      <td>554.0</td>\n",
              "      <td>17.0</td>\n",
              "    </tr>\n",
              "    <tr>\n",
              "      <th>2020-01-23</th>\n",
              "      <td>3737866</td>\n",
              "      <td>7465.7049</td>\n",
              "      <td>1353.5983</td>\n",
              "      <td>652.0</td>\n",
              "      <td>18.0</td>\n",
              "    </tr>\n",
              "    <tr>\n",
              "      <th>2020-01-24</th>\n",
              "      <td>3738150</td>\n",
              "      <td>7465.7049</td>\n",
              "      <td>1353.5983</td>\n",
              "      <td>939.0</td>\n",
              "      <td>26.0</td>\n",
              "    </tr>\n",
              "    <tr>\n",
              "      <th>2020-01-25</th>\n",
              "      <td>3738434</td>\n",
              "      <td>7465.7049</td>\n",
              "      <td>1353.5983</td>\n",
              "      <td>1432.0</td>\n",
              "      <td>42.0</td>\n",
              "    </tr>\n",
              "    <tr>\n",
              "      <th>2020-01-26</th>\n",
              "      <td>3738718</td>\n",
              "      <td>7465.7049</td>\n",
              "      <td>1353.5983</td>\n",
              "      <td>2113.0</td>\n",
              "      <td>56.0</td>\n",
              "    </tr>\n",
              "  </tbody>\n",
              "</table>\n",
              "</div>"
            ],
            "text/plain": [
              "                 Id        Lat       Long  ConfirmedCases  Fatalities\n",
              "Date                                                                 \n",
              "2020-01-22  3737582  7465.7049  1353.5983           554.0        17.0\n",
              "2020-01-23  3737866  7465.7049  1353.5983           652.0        18.0\n",
              "2020-01-24  3738150  7465.7049  1353.5983           939.0        26.0\n",
              "2020-01-25  3738434  7465.7049  1353.5983          1432.0        42.0\n",
              "2020-01-26  3738718  7465.7049  1353.5983          2113.0        56.0"
            ]
          },
          "metadata": {
            "tags": []
          },
          "execution_count": 21
        }
      ]
    },
    {
      "cell_type": "code",
      "metadata": {
        "id": "nMvwRMZO9r2P",
        "colab_type": "code",
        "outputId": "84b53e67-8f03-4257-a09a-b28838d99303",
        "colab": {}
      },
      "source": [
        "train_daily_report['Fatality rate']=train_daily_report['Fatalities']/train_daily_report['ConfirmedCases']\n",
        "train_daily_report.head()"
      ],
      "execution_count": 0,
      "outputs": [
        {
          "output_type": "execute_result",
          "data": {
            "text/html": [
              "<div>\n",
              "<style scoped>\n",
              "    .dataframe tbody tr th:only-of-type {\n",
              "        vertical-align: middle;\n",
              "    }\n",
              "\n",
              "    .dataframe tbody tr th {\n",
              "        vertical-align: top;\n",
              "    }\n",
              "\n",
              "    .dataframe thead th {\n",
              "        text-align: right;\n",
              "    }\n",
              "</style>\n",
              "<table border=\"1\" class=\"dataframe\">\n",
              "  <thead>\n",
              "    <tr style=\"text-align: right;\">\n",
              "      <th></th>\n",
              "      <th>Id</th>\n",
              "      <th>Lat</th>\n",
              "      <th>Long</th>\n",
              "      <th>ConfirmedCases</th>\n",
              "      <th>Fatalities</th>\n",
              "      <th>Fatality rate</th>\n",
              "    </tr>\n",
              "    <tr>\n",
              "      <th>Date</th>\n",
              "      <th></th>\n",
              "      <th></th>\n",
              "      <th></th>\n",
              "      <th></th>\n",
              "      <th></th>\n",
              "      <th></th>\n",
              "    </tr>\n",
              "  </thead>\n",
              "  <tbody>\n",
              "    <tr>\n",
              "      <th>2020-01-22</th>\n",
              "      <td>3737582</td>\n",
              "      <td>7465.7049</td>\n",
              "      <td>1353.5983</td>\n",
              "      <td>554.0</td>\n",
              "      <td>17.0</td>\n",
              "      <td>0.030686</td>\n",
              "    </tr>\n",
              "    <tr>\n",
              "      <th>2020-01-23</th>\n",
              "      <td>3737866</td>\n",
              "      <td>7465.7049</td>\n",
              "      <td>1353.5983</td>\n",
              "      <td>652.0</td>\n",
              "      <td>18.0</td>\n",
              "      <td>0.027607</td>\n",
              "    </tr>\n",
              "    <tr>\n",
              "      <th>2020-01-24</th>\n",
              "      <td>3738150</td>\n",
              "      <td>7465.7049</td>\n",
              "      <td>1353.5983</td>\n",
              "      <td>939.0</td>\n",
              "      <td>26.0</td>\n",
              "      <td>0.027689</td>\n",
              "    </tr>\n",
              "    <tr>\n",
              "      <th>2020-01-25</th>\n",
              "      <td>3738434</td>\n",
              "      <td>7465.7049</td>\n",
              "      <td>1353.5983</td>\n",
              "      <td>1432.0</td>\n",
              "      <td>42.0</td>\n",
              "      <td>0.029330</td>\n",
              "    </tr>\n",
              "    <tr>\n",
              "      <th>2020-01-26</th>\n",
              "      <td>3738718</td>\n",
              "      <td>7465.7049</td>\n",
              "      <td>1353.5983</td>\n",
              "      <td>2113.0</td>\n",
              "      <td>56.0</td>\n",
              "      <td>0.026503</td>\n",
              "    </tr>\n",
              "  </tbody>\n",
              "</table>\n",
              "</div>"
            ],
            "text/plain": [
              "                 Id        Lat       Long  ConfirmedCases  Fatalities  \\\n",
              "Date                                                                    \n",
              "2020-01-22  3737582  7465.7049  1353.5983           554.0        17.0   \n",
              "2020-01-23  3737866  7465.7049  1353.5983           652.0        18.0   \n",
              "2020-01-24  3738150  7465.7049  1353.5983           939.0        26.0   \n",
              "2020-01-25  3738434  7465.7049  1353.5983          1432.0        42.0   \n",
              "2020-01-26  3738718  7465.7049  1353.5983          2113.0        56.0   \n",
              "\n",
              "            Fatality rate  \n",
              "Date                       \n",
              "2020-01-22       0.030686  \n",
              "2020-01-23       0.027607  \n",
              "2020-01-24       0.027689  \n",
              "2020-01-25       0.029330  \n",
              "2020-01-26       0.026503  "
            ]
          },
          "metadata": {
            "tags": []
          },
          "execution_count": 40
        }
      ]
    },
    {
      "cell_type": "code",
      "metadata": {
        "id": "GXkc9FyP9r2j",
        "colab_type": "code",
        "outputId": "19bf9185-1348-49d1-8402-6b52e0b04060",
        "colab": {}
      },
      "source": [
        "plt.figure(figsize=(18,10))\n",
        "train_daily_report[['ConfirmedCases','Fatalities']].plot()"
      ],
      "execution_count": 0,
      "outputs": [
        {
          "output_type": "execute_result",
          "data": {
            "text/plain": [
              "<matplotlib.axes._subplots.AxesSubplot at 0x225f5036ba8>"
            ]
          },
          "metadata": {
            "tags": []
          },
          "execution_count": 22
        },
        {
          "output_type": "display_data",
          "data": {
            "text/plain": [
              "<Figure size 1296x720 with 0 Axes>"
            ]
          },
          "metadata": {
            "tags": []
          }
        },
        {
          "output_type": "display_data",
          "data": {
            "image/png": "[encoded data removed]",
            "text/plain": [
              "<Figure size 432x288 with 1 Axes>"
            ]
          },
          "metadata": {
            "tags": [],
            "needs_background": "light"
          }
        }
      ]
    },
    {
      "cell_type": "code",
      "metadata": {
        "id": "RvTz_nc79r2n",
        "colab_type": "code",
        "outputId": "2fef7699-1390-40e0-aa79-a73fea861f05",
        "colab": {}
      },
      "source": [
        "train_daily_report_italy=train[train['Country/Region']=='Italy']\n",
        "train_daily_report_italy_sort=train_daily_report_italy.groupby('Date')['ConfirmedCases','Fatalities'].sum()\n",
        "plt.figure(figsize=(12,6))\n",
        "train_daily_report_italy_sort.plot()\n",
        "plt.ylabel('No.of confirmed cases')\n",
        "plt.legend(['Italy: COnfirmed cases till 2020-03-22'])"
      ],
      "execution_count": 0,
      "outputs": [
        {
          "output_type": "execute_result",
          "data": {
            "text/plain": [
              "<matplotlib.legend.Legend at 0x225f52196d8>"
            ]
          },
          "metadata": {
            "tags": []
          },
          "execution_count": 23
        },
        {
          "output_type": "display_data",
          "data": {
            "text/plain": [
              "<Figure size 864x432 with 0 Axes>"
            ]
          },
          "metadata": {
            "tags": []
          }
        },
        {
          "output_type": "display_data",
          "data": {
            "image/png": "[encoded data removed]",
            "text/plain": [
              "<Figure size 432x288 with 1 Axes>"
            ]
          },
          "metadata": {
            "tags": [],
            "needs_background": "light"
          }
        }
      ]
    },
    {
      "cell_type": "code",
      "metadata": {
        "id": "ttYAvnSK9r24",
        "colab_type": "code",
        "outputId": "4df9cedc-3488-4ec1-a225-5fde6648cd32",
        "colab": {}
      },
      "source": [
        "train_daily_report_china=train[train['Country/Region']=='China']\n",
        "train_daily_report_china_sort=train_daily_report_china.groupby('Date')['ConfirmedCases','Fatalities'].sum()\n",
        "plt.figure(figsize=(18,8))\n",
        "train_daily_report_china_sort.plot()\n",
        "plt.ylabel('No.of confirmed cases')\n",
        "plt.legend(['China: COnfirmed cases till 2020-03-22'])"
      ],
      "execution_count": 0,
      "outputs": [
        {
          "output_type": "execute_result",
          "data": {
            "text/plain": [
              "<matplotlib.legend.Legend at 0x225f52199e8>"
            ]
          },
          "metadata": {
            "tags": []
          },
          "execution_count": 24
        },
        {
          "output_type": "display_data",
          "data": {
            "text/plain": [
              "<Figure size 1296x576 with 0 Axes>"
            ]
          },
          "metadata": {
            "tags": []
          }
        },
        {
          "output_type": "display_data",
          "data": {
            "image/png": "[encoded data removed]",
            "text/plain": [
              "<Figure size 432x288 with 1 Axes>"
            ]
          },
          "metadata": {
            "tags": [],
            "needs_background": "light"
          }
        }
      ]
    },
    {
      "cell_type": "code",
      "metadata": {
        "id": "ke1FvWBX9r3n",
        "colab_type": "code",
        "outputId": "b56a616b-5267-43b0-d6ec-27b260df3aac",
        "colab": {}
      },
      "source": [
        "train_daily_report_india=train[train['Country/Region']=='India']\n",
        "train_daily_report_india_sort=train_daily_report_india.groupby('Date')['ConfirmedCases','Fatalities'].sum()\n",
        "plt.figure(figsize=(12,6))\n",
        "train_daily_report_india_sort.plot()\n",
        "plt.ylabel('No.of confirmed cases')\n",
        "plt.legend(['India: COnfirmed cases till 2020-03-22'])"
      ],
      "execution_count": 0,
      "outputs": [
        {
          "output_type": "execute_result",
          "data": {
            "text/plain": [
              "<matplotlib.legend.Legend at 0x225f52dbef0>"
            ]
          },
          "metadata": {
            "tags": []
          },
          "execution_count": 25
        },
        {
          "output_type": "display_data",
          "data": {
            "text/plain": [
              "<Figure size 864x432 with 0 Axes>"
            ]
          },
          "metadata": {
            "tags": []
          }
        },
        {
          "output_type": "display_data",
          "data": {
            "image/png": "[encoded data removed]",
            "text/plain": [
              "<Figure size 432x288 with 1 Axes>"
            ]
          },
          "metadata": {
            "tags": [],
            "needs_background": "light"
          }
        }
      ]
    },
    {
      "cell_type": "code",
      "metadata": {
        "id": "qPnRhs7k9r3p",
        "colab_type": "code",
        "outputId": "f1fb4417-b581-431a-aa1b-010fc30fe732",
        "colab": {}
      },
      "source": [
        "train_daily_report_iran=train[train['Country/Region']=='Iran']\n",
        "train_daily_report_iran_sort=train_daily_report_iran.groupby('Date')['ConfirmedCases','Fatalities'].sum()\n",
        "plt.figure(figsize=(12,6))\n",
        "train_daily_report_iran_sort.plot()\n",
        "plt.ylabel('No.of confirmed cases')\n",
        "plt.legend(['Iran: COnfirmed cases till 2020-03-22'])\n",
        "plt.xticks(rotation=60)"
      ],
      "execution_count": 0,
      "outputs": [
        {
          "output_type": "execute_result",
          "data": {
            "text/plain": [
              "(array([ 0., 10., 20., 30., 40., 50., 60.]),\n",
              " <a list of 7 Text xticklabel objects>)"
            ]
          },
          "metadata": {
            "tags": []
          },
          "execution_count": 26
        },
        {
          "output_type": "display_data",
          "data": {
            "text/plain": [
              "<Figure size 864x432 with 0 Axes>"
            ]
          },
          "metadata": {
            "tags": []
          }
        },
        {
          "output_type": "display_data",
          "data": {
            "image/png": "[encoded data removed]",
            "text/plain": [
              "<Figure size 432x288 with 1 Axes>"
            ]
          },
          "metadata": {
            "tags": [],
            "needs_background": "light"
          }
        }
      ]
    },
    {
      "cell_type": "code",
      "metadata": {
        "id": "mBa9q_329r3s",
        "colab_type": "code",
        "outputId": "86994ddc-7fd5-4fb9-a474-bf2deead7747",
        "colab": {}
      },
      "source": [
        "train.head()"
      ],
      "execution_count": 0,
      "outputs": [
        {
          "output_type": "execute_result",
          "data": {
            "text/html": [
              "<div>\n",
              "<style scoped>\n",
              "    .dataframe tbody tr th:only-of-type {\n",
              "        vertical-align: middle;\n",
              "    }\n",
              "\n",
              "    .dataframe tbody tr th {\n",
              "        vertical-align: top;\n",
              "    }\n",
              "\n",
              "    .dataframe thead th {\n",
              "        text-align: right;\n",
              "    }\n",
              "</style>\n",
              "<table border=\"1\" class=\"dataframe\">\n",
              "  <thead>\n",
              "    <tr style=\"text-align: right;\">\n",
              "      <th></th>\n",
              "      <th>Id</th>\n",
              "      <th>Country/Region</th>\n",
              "      <th>Lat</th>\n",
              "      <th>Long</th>\n",
              "      <th>Date</th>\n",
              "      <th>ConfirmedCases</th>\n",
              "      <th>Fatalities</th>\n",
              "    </tr>\n",
              "  </thead>\n",
              "  <tbody>\n",
              "    <tr>\n",
              "      <th>0</th>\n",
              "      <td>1</td>\n",
              "      <td>Afghanistan</td>\n",
              "      <td>33.0</td>\n",
              "      <td>65.0</td>\n",
              "      <td>2020-01-22</td>\n",
              "      <td>0.0</td>\n",
              "      <td>0.0</td>\n",
              "    </tr>\n",
              "    <tr>\n",
              "      <th>1</th>\n",
              "      <td>2</td>\n",
              "      <td>Afghanistan</td>\n",
              "      <td>33.0</td>\n",
              "      <td>65.0</td>\n",
              "      <td>2020-01-23</td>\n",
              "      <td>0.0</td>\n",
              "      <td>0.0</td>\n",
              "    </tr>\n",
              "    <tr>\n",
              "      <th>2</th>\n",
              "      <td>3</td>\n",
              "      <td>Afghanistan</td>\n",
              "      <td>33.0</td>\n",
              "      <td>65.0</td>\n",
              "      <td>2020-01-24</td>\n",
              "      <td>0.0</td>\n",
              "      <td>0.0</td>\n",
              "    </tr>\n",
              "    <tr>\n",
              "      <th>3</th>\n",
              "      <td>4</td>\n",
              "      <td>Afghanistan</td>\n",
              "      <td>33.0</td>\n",
              "      <td>65.0</td>\n",
              "      <td>2020-01-25</td>\n",
              "      <td>0.0</td>\n",
              "      <td>0.0</td>\n",
              "    </tr>\n",
              "    <tr>\n",
              "      <th>4</th>\n",
              "      <td>5</td>\n",
              "      <td>Afghanistan</td>\n",
              "      <td>33.0</td>\n",
              "      <td>65.0</td>\n",
              "      <td>2020-01-26</td>\n",
              "      <td>0.0</td>\n",
              "      <td>0.0</td>\n",
              "    </tr>\n",
              "  </tbody>\n",
              "</table>\n",
              "</div>"
            ],
            "text/plain": [
              "   Id Country/Region   Lat  Long        Date  ConfirmedCases  Fatalities\n",
              "0   1    Afghanistan  33.0  65.0  2020-01-22             0.0         0.0\n",
              "1   2    Afghanistan  33.0  65.0  2020-01-23             0.0         0.0\n",
              "2   3    Afghanistan  33.0  65.0  2020-01-24             0.0         0.0\n",
              "3   4    Afghanistan  33.0  65.0  2020-01-25             0.0         0.0\n",
              "4   5    Afghanistan  33.0  65.0  2020-01-26             0.0         0.0"
            ]
          },
          "metadata": {
            "tags": []
          },
          "execution_count": 27
        }
      ]
    },
    {
      "cell_type": "code",
      "metadata": {
        "id": "X5fVWtXf9r38",
        "colab_type": "code",
        "colab": {}
      },
      "source": [
        "train_country_wise=train.groupby(['Date','Country/Region','Lat','Long'])['ConfirmedCases','Fatalities'].sum().reset_index()"
      ],
      "execution_count": 0,
      "outputs": []
    },
    {
      "cell_type": "code",
      "metadata": {
        "id": "MWqVDRuA9r4D",
        "colab_type": "code",
        "outputId": "ba0b21b6-aa48-47b6-f297-02c29162bde2",
        "colab": {}
      },
      "source": [
        "print(train_country_wise.head(10))\n",
        "print(train_country_wise.shape)\n",
        "print(train_country_wise.info())"
      ],
      "execution_count": 0,
      "outputs": [
        {
          "output_type": "stream",
          "text": [
            "         Date       Country/Region      Lat      Long  ConfirmedCases  \\\n",
            "0  2020-01-22          Afghanistan  33.0000   65.0000             0.0   \n",
            "1  2020-01-22              Albania  41.1533   20.1683             0.0   \n",
            "2  2020-01-22              Algeria  28.0339    1.6596             0.0   \n",
            "3  2020-01-22              Andorra  42.5063    1.5218             0.0   \n",
            "4  2020-01-22  Antigua and Barbuda  17.0608  -61.7964             0.0   \n",
            "5  2020-01-22            Argentina -38.4161  -63.6167             0.0   \n",
            "6  2020-01-22              Armenia  40.0691   45.0382             0.0   \n",
            "7  2020-01-22                Aruba  12.5211  -69.9683             0.0   \n",
            "8  2020-01-22            Australia -41.4545  145.9707             0.0   \n",
            "9  2020-01-22            Australia -37.8136  144.9631             0.0   \n",
            "\n",
            "   Fatalities  \n",
            "0         0.0  \n",
            "1         0.0  \n",
            "2         0.0  \n",
            "3         0.0  \n",
            "4         0.0  \n",
            "5         0.0  \n",
            "6         0.0  \n",
            "7         0.0  \n",
            "8         0.0  \n",
            "9         0.0  \n",
            "(17040, 6)\n",
            "<class 'pandas.core.frame.DataFrame'>\n",
            "RangeIndex: 17040 entries, 0 to 17039\n",
            "Data columns (total 6 columns):\n",
            "Date              17040 non-null object\n",
            "Country/Region    17040 non-null object\n",
            "Lat               17040 non-null float64\n",
            "Long              17040 non-null float64\n",
            "ConfirmedCases    17040 non-null float64\n",
            "Fatalities        17040 non-null float64\n",
            "dtypes: float64(4), object(2)\n",
            "memory usage: 798.8+ KB\n",
            "None\n"
          ],
          "name": "stdout"
        }
      ]
    },
    {
      "cell_type": "code",
      "metadata": {
        "id": "q5lmVKUk9r4Q",
        "colab_type": "code",
        "colab": {}
      },
      "source": [
        "train_country_wise.Date=pd.to_datetime(train_country_wise['Date'])"
      ],
      "execution_count": 0,
      "outputs": []
    },
    {
      "cell_type": "code",
      "metadata": {
        "id": "XwNrqpjw9r4U",
        "colab_type": "code",
        "outputId": "e52582d9-04af-4617-b089-5915a259ab10",
        "colab": {}
      },
      "source": [
        "train_country_wise.head()"
      ],
      "execution_count": 0,
      "outputs": [
        {
          "output_type": "execute_result",
          "data": {
            "text/html": [
              "<div>\n",
              "<style scoped>\n",
              "    .dataframe tbody tr th:only-of-type {\n",
              "        vertical-align: middle;\n",
              "    }\n",
              "\n",
              "    .dataframe tbody tr th {\n",
              "        vertical-align: top;\n",
              "    }\n",
              "\n",
              "    .dataframe thead th {\n",
              "        text-align: right;\n",
              "    }\n",
              "</style>\n",
              "<table border=\"1\" class=\"dataframe\">\n",
              "  <thead>\n",
              "    <tr style=\"text-align: right;\">\n",
              "      <th></th>\n",
              "      <th>Date</th>\n",
              "      <th>Country/Region</th>\n",
              "      <th>Lat</th>\n",
              "      <th>Long</th>\n",
              "      <th>ConfirmedCases</th>\n",
              "      <th>Fatalities</th>\n",
              "    </tr>\n",
              "  </thead>\n",
              "  <tbody>\n",
              "    <tr>\n",
              "      <th>0</th>\n",
              "      <td>2020-01-22</td>\n",
              "      <td>Afghanistan</td>\n",
              "      <td>33.0000</td>\n",
              "      <td>65.0000</td>\n",
              "      <td>0.0</td>\n",
              "      <td>0.0</td>\n",
              "    </tr>\n",
              "    <tr>\n",
              "      <th>1</th>\n",
              "      <td>2020-01-22</td>\n",
              "      <td>Albania</td>\n",
              "      <td>41.1533</td>\n",
              "      <td>20.1683</td>\n",
              "      <td>0.0</td>\n",
              "      <td>0.0</td>\n",
              "    </tr>\n",
              "    <tr>\n",
              "      <th>2</th>\n",
              "      <td>2020-01-22</td>\n",
              "      <td>Algeria</td>\n",
              "      <td>28.0339</td>\n",
              "      <td>1.6596</td>\n",
              "      <td>0.0</td>\n",
              "      <td>0.0</td>\n",
              "    </tr>\n",
              "    <tr>\n",
              "      <th>3</th>\n",
              "      <td>2020-01-22</td>\n",
              "      <td>Andorra</td>\n",
              "      <td>42.5063</td>\n",
              "      <td>1.5218</td>\n",
              "      <td>0.0</td>\n",
              "      <td>0.0</td>\n",
              "    </tr>\n",
              "    <tr>\n",
              "      <th>4</th>\n",
              "      <td>2020-01-22</td>\n",
              "      <td>Antigua and Barbuda</td>\n",
              "      <td>17.0608</td>\n",
              "      <td>-61.7964</td>\n",
              "      <td>0.0</td>\n",
              "      <td>0.0</td>\n",
              "    </tr>\n",
              "  </tbody>\n",
              "</table>\n",
              "</div>"
            ],
            "text/plain": [
              "        Date       Country/Region      Lat     Long  ConfirmedCases  \\\n",
              "0 2020-01-22          Afghanistan  33.0000  65.0000             0.0   \n",
              "1 2020-01-22              Albania  41.1533  20.1683             0.0   \n",
              "2 2020-01-22              Algeria  28.0339   1.6596             0.0   \n",
              "3 2020-01-22              Andorra  42.5063   1.5218             0.0   \n",
              "4 2020-01-22  Antigua and Barbuda  17.0608 -61.7964             0.0   \n",
              "\n",
              "   Fatalities  \n",
              "0         0.0  \n",
              "1         0.0  \n",
              "2         0.0  \n",
              "3         0.0  \n",
              "4         0.0  "
            ]
          },
          "metadata": {
            "tags": []
          },
          "execution_count": 31
        }
      ]
    },
    {
      "cell_type": "code",
      "metadata": {
        "id": "iECM-7c59r4k",
        "colab_type": "code",
        "outputId": "9a5550ad-4185-4f1b-f99e-7ceb7160e569",
        "colab": {}
      },
      "source": [
        "train_country_wise.info()"
      ],
      "execution_count": 0,
      "outputs": [
        {
          "output_type": "stream",
          "text": [
            "<class 'pandas.core.frame.DataFrame'>\n",
            "RangeIndex: 17040 entries, 0 to 17039\n",
            "Data columns (total 6 columns):\n",
            "Date              17040 non-null datetime64[ns]\n",
            "Country/Region    17040 non-null object\n",
            "Lat               17040 non-null float64\n",
            "Long              17040 non-null float64\n",
            "ConfirmedCases    17040 non-null float64\n",
            "Fatalities        17040 non-null float64\n",
            "dtypes: datetime64[ns](1), float64(4), object(1)\n",
            "memory usage: 798.8+ KB\n"
          ],
          "name": "stdout"
        }
      ]
    },
    {
      "cell_type": "code",
      "metadata": {
        "id": "0m6cpKPv9r4p",
        "colab_type": "code",
        "colab": {}
      },
      "source": [
        "train['Fataility ratio']=train['Fatalities']/train['ConfirmedCases']"
      ],
      "execution_count": 0,
      "outputs": []
    },
    {
      "cell_type": "code",
      "metadata": {
        "id": "bdaHTIBr9r4v",
        "colab_type": "code",
        "outputId": "4c02c4e5-ae5a-423d-fba4-d6e4b1fdc25e",
        "colab": {}
      },
      "source": [
        "train.tail(120)"
      ],
      "execution_count": 0,
      "outputs": [
        {
          "output_type": "execute_result",
          "data": {
            "text/html": [
              "<div>\n",
              "<style scoped>\n",
              "    .dataframe tbody tr th:only-of-type {\n",
              "        vertical-align: middle;\n",
              "    }\n",
              "\n",
              "    .dataframe tbody tr th {\n",
              "        vertical-align: top;\n",
              "    }\n",
              "\n",
              "    .dataframe thead th {\n",
              "        text-align: right;\n",
              "    }\n",
              "</style>\n",
              "<table border=\"1\" class=\"dataframe\">\n",
              "  <thead>\n",
              "    <tr style=\"text-align: right;\">\n",
              "      <th></th>\n",
              "      <th>Id</th>\n",
              "      <th>Country/Region</th>\n",
              "      <th>Lat</th>\n",
              "      <th>Long</th>\n",
              "      <th>Date</th>\n",
              "      <th>ConfirmedCases</th>\n",
              "      <th>Fatalities</th>\n",
              "      <th>Fataility ratio</th>\n",
              "    </tr>\n",
              "  </thead>\n",
              "  <tbody>\n",
              "    <tr>\n",
              "      <th>16920</th>\n",
              "      <td>26227</td>\n",
              "      <td>Vietnam</td>\n",
              "      <td>16.0000</td>\n",
              "      <td>108.0000</td>\n",
              "      <td>2020-01-22</td>\n",
              "      <td>0.0</td>\n",
              "      <td>0.0</td>\n",
              "      <td>NaN</td>\n",
              "    </tr>\n",
              "    <tr>\n",
              "      <th>16921</th>\n",
              "      <td>26228</td>\n",
              "      <td>Vietnam</td>\n",
              "      <td>16.0000</td>\n",
              "      <td>108.0000</td>\n",
              "      <td>2020-01-23</td>\n",
              "      <td>2.0</td>\n",
              "      <td>0.0</td>\n",
              "      <td>0.0</td>\n",
              "    </tr>\n",
              "    <tr>\n",
              "      <th>16922</th>\n",
              "      <td>26229</td>\n",
              "      <td>Vietnam</td>\n",
              "      <td>16.0000</td>\n",
              "      <td>108.0000</td>\n",
              "      <td>2020-01-24</td>\n",
              "      <td>2.0</td>\n",
              "      <td>0.0</td>\n",
              "      <td>0.0</td>\n",
              "    </tr>\n",
              "    <tr>\n",
              "      <th>16923</th>\n",
              "      <td>26230</td>\n",
              "      <td>Vietnam</td>\n",
              "      <td>16.0000</td>\n",
              "      <td>108.0000</td>\n",
              "      <td>2020-01-25</td>\n",
              "      <td>2.0</td>\n",
              "      <td>0.0</td>\n",
              "      <td>0.0</td>\n",
              "    </tr>\n",
              "    <tr>\n",
              "      <th>16924</th>\n",
              "      <td>26231</td>\n",
              "      <td>Vietnam</td>\n",
              "      <td>16.0000</td>\n",
              "      <td>108.0000</td>\n",
              "      <td>2020-01-26</td>\n",
              "      <td>2.0</td>\n",
              "      <td>0.0</td>\n",
              "      <td>0.0</td>\n",
              "    </tr>\n",
              "    <tr>\n",
              "      <th>16925</th>\n",
              "      <td>26232</td>\n",
              "      <td>Vietnam</td>\n",
              "      <td>16.0000</td>\n",
              "      <td>108.0000</td>\n",
              "      <td>2020-01-27</td>\n",
              "      <td>2.0</td>\n",
              "      <td>0.0</td>\n",
              "      <td>0.0</td>\n",
              "    </tr>\n",
              "    <tr>\n",
              "      <th>16926</th>\n",
              "      <td>26233</td>\n",
              "      <td>Vietnam</td>\n",
              "      <td>16.0000</td>\n",
              "      <td>108.0000</td>\n",
              "      <td>2020-01-28</td>\n",
              "      <td>2.0</td>\n",
              "      <td>0.0</td>\n",
              "      <td>0.0</td>\n",
              "    </tr>\n",
              "    <tr>\n",
              "      <th>16927</th>\n",
              "      <td>26234</td>\n",
              "      <td>Vietnam</td>\n",
              "      <td>16.0000</td>\n",
              "      <td>108.0000</td>\n",
              "      <td>2020-01-29</td>\n",
              "      <td>2.0</td>\n",
              "      <td>0.0</td>\n",
              "      <td>0.0</td>\n",
              "    </tr>\n",
              "    <tr>\n",
              "      <th>16928</th>\n",
              "      <td>26235</td>\n",
              "      <td>Vietnam</td>\n",
              "      <td>16.0000</td>\n",
              "      <td>108.0000</td>\n",
              "      <td>2020-01-30</td>\n",
              "      <td>2.0</td>\n",
              "      <td>0.0</td>\n",
              "      <td>0.0</td>\n",
              "    </tr>\n",
              "    <tr>\n",
              "      <th>16929</th>\n",
              "      <td>26236</td>\n",
              "      <td>Vietnam</td>\n",
              "      <td>16.0000</td>\n",
              "      <td>108.0000</td>\n",
              "      <td>2020-01-31</td>\n",
              "      <td>2.0</td>\n",
              "      <td>0.0</td>\n",
              "      <td>0.0</td>\n",
              "    </tr>\n",
              "    <tr>\n",
              "      <th>16930</th>\n",
              "      <td>26237</td>\n",
              "      <td>Vietnam</td>\n",
              "      <td>16.0000</td>\n",
              "      <td>108.0000</td>\n",
              "      <td>2020-02-01</td>\n",
              "      <td>6.0</td>\n",
              "      <td>0.0</td>\n",
              "      <td>0.0</td>\n",
              "    </tr>\n",
              "    <tr>\n",
              "      <th>16931</th>\n",
              "      <td>26238</td>\n",
              "      <td>Vietnam</td>\n",
              "      <td>16.0000</td>\n",
              "      <td>108.0000</td>\n",
              "      <td>2020-02-02</td>\n",
              "      <td>6.0</td>\n",
              "      <td>0.0</td>\n",
              "      <td>0.0</td>\n",
              "    </tr>\n",
              "    <tr>\n",
              "      <th>16932</th>\n",
              "      <td>26239</td>\n",
              "      <td>Vietnam</td>\n",
              "      <td>16.0000</td>\n",
              "      <td>108.0000</td>\n",
              "      <td>2020-02-03</td>\n",
              "      <td>8.0</td>\n",
              "      <td>0.0</td>\n",
              "      <td>0.0</td>\n",
              "    </tr>\n",
              "    <tr>\n",
              "      <th>16933</th>\n",
              "      <td>26240</td>\n",
              "      <td>Vietnam</td>\n",
              "      <td>16.0000</td>\n",
              "      <td>108.0000</td>\n",
              "      <td>2020-02-04</td>\n",
              "      <td>8.0</td>\n",
              "      <td>0.0</td>\n",
              "      <td>0.0</td>\n",
              "    </tr>\n",
              "    <tr>\n",
              "      <th>16934</th>\n",
              "      <td>26241</td>\n",
              "      <td>Vietnam</td>\n",
              "      <td>16.0000</td>\n",
              "      <td>108.0000</td>\n",
              "      <td>2020-02-05</td>\n",
              "      <td>8.0</td>\n",
              "      <td>0.0</td>\n",
              "      <td>0.0</td>\n",
              "    </tr>\n",
              "    <tr>\n",
              "      <th>16935</th>\n",
              "      <td>26242</td>\n",
              "      <td>Vietnam</td>\n",
              "      <td>16.0000</td>\n",
              "      <td>108.0000</td>\n",
              "      <td>2020-02-06</td>\n",
              "      <td>10.0</td>\n",
              "      <td>0.0</td>\n",
              "      <td>0.0</td>\n",
              "    </tr>\n",
              "    <tr>\n",
              "      <th>16936</th>\n",
              "      <td>26243</td>\n",
              "      <td>Vietnam</td>\n",
              "      <td>16.0000</td>\n",
              "      <td>108.0000</td>\n",
              "      <td>2020-02-07</td>\n",
              "      <td>10.0</td>\n",
              "      <td>0.0</td>\n",
              "      <td>0.0</td>\n",
              "    </tr>\n",
              "    <tr>\n",
              "      <th>16937</th>\n",
              "      <td>26244</td>\n",
              "      <td>Vietnam</td>\n",
              "      <td>16.0000</td>\n",
              "      <td>108.0000</td>\n",
              "      <td>2020-02-08</td>\n",
              "      <td>13.0</td>\n",
              "      <td>0.0</td>\n",
              "      <td>0.0</td>\n",
              "    </tr>\n",
              "    <tr>\n",
              "      <th>16938</th>\n",
              "      <td>26245</td>\n",
              "      <td>Vietnam</td>\n",
              "      <td>16.0000</td>\n",
              "      <td>108.0000</td>\n",
              "      <td>2020-02-09</td>\n",
              "      <td>13.0</td>\n",
              "      <td>0.0</td>\n",
              "      <td>0.0</td>\n",
              "    </tr>\n",
              "    <tr>\n",
              "      <th>16939</th>\n",
              "      <td>26246</td>\n",
              "      <td>Vietnam</td>\n",
              "      <td>16.0000</td>\n",
              "      <td>108.0000</td>\n",
              "      <td>2020-02-10</td>\n",
              "      <td>14.0</td>\n",
              "      <td>0.0</td>\n",
              "      <td>0.0</td>\n",
              "    </tr>\n",
              "    <tr>\n",
              "      <th>16940</th>\n",
              "      <td>26247</td>\n",
              "      <td>Vietnam</td>\n",
              "      <td>16.0000</td>\n",
              "      <td>108.0000</td>\n",
              "      <td>2020-02-11</td>\n",
              "      <td>15.0</td>\n",
              "      <td>0.0</td>\n",
              "      <td>0.0</td>\n",
              "    </tr>\n",
              "    <tr>\n",
              "      <th>16941</th>\n",
              "      <td>26248</td>\n",
              "      <td>Vietnam</td>\n",
              "      <td>16.0000</td>\n",
              "      <td>108.0000</td>\n",
              "      <td>2020-02-12</td>\n",
              "      <td>15.0</td>\n",
              "      <td>0.0</td>\n",
              "      <td>0.0</td>\n",
              "    </tr>\n",
              "    <tr>\n",
              "      <th>16942</th>\n",
              "      <td>26249</td>\n",
              "      <td>Vietnam</td>\n",
              "      <td>16.0000</td>\n",
              "      <td>108.0000</td>\n",
              "      <td>2020-02-13</td>\n",
              "      <td>16.0</td>\n",
              "      <td>0.0</td>\n",
              "      <td>0.0</td>\n",
              "    </tr>\n",
              "    <tr>\n",
              "      <th>16943</th>\n",
              "      <td>26250</td>\n",
              "      <td>Vietnam</td>\n",
              "      <td>16.0000</td>\n",
              "      <td>108.0000</td>\n",
              "      <td>2020-02-14</td>\n",
              "      <td>16.0</td>\n",
              "      <td>0.0</td>\n",
              "      <td>0.0</td>\n",
              "    </tr>\n",
              "    <tr>\n",
              "      <th>16944</th>\n",
              "      <td>26251</td>\n",
              "      <td>Vietnam</td>\n",
              "      <td>16.0000</td>\n",
              "      <td>108.0000</td>\n",
              "      <td>2020-02-15</td>\n",
              "      <td>16.0</td>\n",
              "      <td>0.0</td>\n",
              "      <td>0.0</td>\n",
              "    </tr>\n",
              "    <tr>\n",
              "      <th>16945</th>\n",
              "      <td>26252</td>\n",
              "      <td>Vietnam</td>\n",
              "      <td>16.0000</td>\n",
              "      <td>108.0000</td>\n",
              "      <td>2020-02-16</td>\n",
              "      <td>16.0</td>\n",
              "      <td>0.0</td>\n",
              "      <td>0.0</td>\n",
              "    </tr>\n",
              "    <tr>\n",
              "      <th>16946</th>\n",
              "      <td>26253</td>\n",
              "      <td>Vietnam</td>\n",
              "      <td>16.0000</td>\n",
              "      <td>108.0000</td>\n",
              "      <td>2020-02-17</td>\n",
              "      <td>16.0</td>\n",
              "      <td>0.0</td>\n",
              "      <td>0.0</td>\n",
              "    </tr>\n",
              "    <tr>\n",
              "      <th>16947</th>\n",
              "      <td>26254</td>\n",
              "      <td>Vietnam</td>\n",
              "      <td>16.0000</td>\n",
              "      <td>108.0000</td>\n",
              "      <td>2020-02-18</td>\n",
              "      <td>16.0</td>\n",
              "      <td>0.0</td>\n",
              "      <td>0.0</td>\n",
              "    </tr>\n",
              "    <tr>\n",
              "      <th>16948</th>\n",
              "      <td>26255</td>\n",
              "      <td>Vietnam</td>\n",
              "      <td>16.0000</td>\n",
              "      <td>108.0000</td>\n",
              "      <td>2020-02-19</td>\n",
              "      <td>16.0</td>\n",
              "      <td>0.0</td>\n",
              "      <td>0.0</td>\n",
              "    </tr>\n",
              "    <tr>\n",
              "      <th>16949</th>\n",
              "      <td>26256</td>\n",
              "      <td>Vietnam</td>\n",
              "      <td>16.0000</td>\n",
              "      <td>108.0000</td>\n",
              "      <td>2020-02-20</td>\n",
              "      <td>16.0</td>\n",
              "      <td>0.0</td>\n",
              "      <td>0.0</td>\n",
              "    </tr>\n",
              "    <tr>\n",
              "      <th>...</th>\n",
              "      <td>...</td>\n",
              "      <td>...</td>\n",
              "      <td>...</td>\n",
              "      <td>...</td>\n",
              "      <td>...</td>\n",
              "      <td>...</td>\n",
              "      <td>...</td>\n",
              "      <td>...</td>\n",
              "    </tr>\n",
              "    <tr>\n",
              "      <th>17010</th>\n",
              "      <td>26350</td>\n",
              "      <td>Zambia</td>\n",
              "      <td>-15.4167</td>\n",
              "      <td>28.2833</td>\n",
              "      <td>2020-02-21</td>\n",
              "      <td>0.0</td>\n",
              "      <td>0.0</td>\n",
              "      <td>NaN</td>\n",
              "    </tr>\n",
              "    <tr>\n",
              "      <th>17011</th>\n",
              "      <td>26351</td>\n",
              "      <td>Zambia</td>\n",
              "      <td>-15.4167</td>\n",
              "      <td>28.2833</td>\n",
              "      <td>2020-02-22</td>\n",
              "      <td>0.0</td>\n",
              "      <td>0.0</td>\n",
              "      <td>NaN</td>\n",
              "    </tr>\n",
              "    <tr>\n",
              "      <th>17012</th>\n",
              "      <td>26352</td>\n",
              "      <td>Zambia</td>\n",
              "      <td>-15.4167</td>\n",
              "      <td>28.2833</td>\n",
              "      <td>2020-02-23</td>\n",
              "      <td>0.0</td>\n",
              "      <td>0.0</td>\n",
              "      <td>NaN</td>\n",
              "    </tr>\n",
              "    <tr>\n",
              "      <th>17013</th>\n",
              "      <td>26353</td>\n",
              "      <td>Zambia</td>\n",
              "      <td>-15.4167</td>\n",
              "      <td>28.2833</td>\n",
              "      <td>2020-02-24</td>\n",
              "      <td>0.0</td>\n",
              "      <td>0.0</td>\n",
              "      <td>NaN</td>\n",
              "    </tr>\n",
              "    <tr>\n",
              "      <th>17014</th>\n",
              "      <td>26354</td>\n",
              "      <td>Zambia</td>\n",
              "      <td>-15.4167</td>\n",
              "      <td>28.2833</td>\n",
              "      <td>2020-02-25</td>\n",
              "      <td>0.0</td>\n",
              "      <td>0.0</td>\n",
              "      <td>NaN</td>\n",
              "    </tr>\n",
              "    <tr>\n",
              "      <th>17015</th>\n",
              "      <td>26355</td>\n",
              "      <td>Zambia</td>\n",
              "      <td>-15.4167</td>\n",
              "      <td>28.2833</td>\n",
              "      <td>2020-02-26</td>\n",
              "      <td>0.0</td>\n",
              "      <td>0.0</td>\n",
              "      <td>NaN</td>\n",
              "    </tr>\n",
              "    <tr>\n",
              "      <th>17016</th>\n",
              "      <td>26356</td>\n",
              "      <td>Zambia</td>\n",
              "      <td>-15.4167</td>\n",
              "      <td>28.2833</td>\n",
              "      <td>2020-02-27</td>\n",
              "      <td>0.0</td>\n",
              "      <td>0.0</td>\n",
              "      <td>NaN</td>\n",
              "    </tr>\n",
              "    <tr>\n",
              "      <th>17017</th>\n",
              "      <td>26357</td>\n",
              "      <td>Zambia</td>\n",
              "      <td>-15.4167</td>\n",
              "      <td>28.2833</td>\n",
              "      <td>2020-02-28</td>\n",
              "      <td>0.0</td>\n",
              "      <td>0.0</td>\n",
              "      <td>NaN</td>\n",
              "    </tr>\n",
              "    <tr>\n",
              "      <th>17018</th>\n",
              "      <td>26358</td>\n",
              "      <td>Zambia</td>\n",
              "      <td>-15.4167</td>\n",
              "      <td>28.2833</td>\n",
              "      <td>2020-02-29</td>\n",
              "      <td>0.0</td>\n",
              "      <td>0.0</td>\n",
              "      <td>NaN</td>\n",
              "    </tr>\n",
              "    <tr>\n",
              "      <th>17019</th>\n",
              "      <td>26359</td>\n",
              "      <td>Zambia</td>\n",
              "      <td>-15.4167</td>\n",
              "      <td>28.2833</td>\n",
              "      <td>2020-03-01</td>\n",
              "      <td>0.0</td>\n",
              "      <td>0.0</td>\n",
              "      <td>NaN</td>\n",
              "    </tr>\n",
              "    <tr>\n",
              "      <th>17020</th>\n",
              "      <td>26360</td>\n",
              "      <td>Zambia</td>\n",
              "      <td>-15.4167</td>\n",
              "      <td>28.2833</td>\n",
              "      <td>2020-03-02</td>\n",
              "      <td>0.0</td>\n",
              "      <td>0.0</td>\n",
              "      <td>NaN</td>\n",
              "    </tr>\n",
              "    <tr>\n",
              "      <th>17021</th>\n",
              "      <td>26361</td>\n",
              "      <td>Zambia</td>\n",
              "      <td>-15.4167</td>\n",
              "      <td>28.2833</td>\n",
              "      <td>2020-03-03</td>\n",
              "      <td>0.0</td>\n",
              "      <td>0.0</td>\n",
              "      <td>NaN</td>\n",
              "    </tr>\n",
              "    <tr>\n",
              "      <th>17022</th>\n",
              "      <td>26362</td>\n",
              "      <td>Zambia</td>\n",
              "      <td>-15.4167</td>\n",
              "      <td>28.2833</td>\n",
              "      <td>2020-03-04</td>\n",
              "      <td>0.0</td>\n",
              "      <td>0.0</td>\n",
              "      <td>NaN</td>\n",
              "    </tr>\n",
              "    <tr>\n",
              "      <th>17023</th>\n",
              "      <td>26363</td>\n",
              "      <td>Zambia</td>\n",
              "      <td>-15.4167</td>\n",
              "      <td>28.2833</td>\n",
              "      <td>2020-03-05</td>\n",
              "      <td>0.0</td>\n",
              "      <td>0.0</td>\n",
              "      <td>NaN</td>\n",
              "    </tr>\n",
              "    <tr>\n",
              "      <th>17024</th>\n",
              "      <td>26364</td>\n",
              "      <td>Zambia</td>\n",
              "      <td>-15.4167</td>\n",
              "      <td>28.2833</td>\n",
              "      <td>2020-03-06</td>\n",
              "      <td>0.0</td>\n",
              "      <td>0.0</td>\n",
              "      <td>NaN</td>\n",
              "    </tr>\n",
              "    <tr>\n",
              "      <th>17025</th>\n",
              "      <td>26365</td>\n",
              "      <td>Zambia</td>\n",
              "      <td>-15.4167</td>\n",
              "      <td>28.2833</td>\n",
              "      <td>2020-03-07</td>\n",
              "      <td>0.0</td>\n",
              "      <td>0.0</td>\n",
              "      <td>NaN</td>\n",
              "    </tr>\n",
              "    <tr>\n",
              "      <th>17026</th>\n",
              "      <td>26366</td>\n",
              "      <td>Zambia</td>\n",
              "      <td>-15.4167</td>\n",
              "      <td>28.2833</td>\n",
              "      <td>2020-03-08</td>\n",
              "      <td>0.0</td>\n",
              "      <td>0.0</td>\n",
              "      <td>NaN</td>\n",
              "    </tr>\n",
              "    <tr>\n",
              "      <th>17027</th>\n",
              "      <td>26367</td>\n",
              "      <td>Zambia</td>\n",
              "      <td>-15.4167</td>\n",
              "      <td>28.2833</td>\n",
              "      <td>2020-03-09</td>\n",
              "      <td>0.0</td>\n",
              "      <td>0.0</td>\n",
              "      <td>NaN</td>\n",
              "    </tr>\n",
              "    <tr>\n",
              "      <th>17028</th>\n",
              "      <td>26368</td>\n",
              "      <td>Zambia</td>\n",
              "      <td>-15.4167</td>\n",
              "      <td>28.2833</td>\n",
              "      <td>2020-03-10</td>\n",
              "      <td>0.0</td>\n",
              "      <td>0.0</td>\n",
              "      <td>NaN</td>\n",
              "    </tr>\n",
              "    <tr>\n",
              "      <th>17029</th>\n",
              "      <td>26369</td>\n",
              "      <td>Zambia</td>\n",
              "      <td>-15.4167</td>\n",
              "      <td>28.2833</td>\n",
              "      <td>2020-03-11</td>\n",
              "      <td>0.0</td>\n",
              "      <td>0.0</td>\n",
              "      <td>NaN</td>\n",
              "    </tr>\n",
              "    <tr>\n",
              "      <th>17030</th>\n",
              "      <td>26370</td>\n",
              "      <td>Zambia</td>\n",
              "      <td>-15.4167</td>\n",
              "      <td>28.2833</td>\n",
              "      <td>2020-03-12</td>\n",
              "      <td>0.0</td>\n",
              "      <td>0.0</td>\n",
              "      <td>NaN</td>\n",
              "    </tr>\n",
              "    <tr>\n",
              "      <th>17031</th>\n",
              "      <td>26371</td>\n",
              "      <td>Zambia</td>\n",
              "      <td>-15.4167</td>\n",
              "      <td>28.2833</td>\n",
              "      <td>2020-03-13</td>\n",
              "      <td>0.0</td>\n",
              "      <td>0.0</td>\n",
              "      <td>NaN</td>\n",
              "    </tr>\n",
              "    <tr>\n",
              "      <th>17032</th>\n",
              "      <td>26372</td>\n",
              "      <td>Zambia</td>\n",
              "      <td>-15.4167</td>\n",
              "      <td>28.2833</td>\n",
              "      <td>2020-03-14</td>\n",
              "      <td>0.0</td>\n",
              "      <td>0.0</td>\n",
              "      <td>NaN</td>\n",
              "    </tr>\n",
              "    <tr>\n",
              "      <th>17033</th>\n",
              "      <td>26373</td>\n",
              "      <td>Zambia</td>\n",
              "      <td>-15.4167</td>\n",
              "      <td>28.2833</td>\n",
              "      <td>2020-03-15</td>\n",
              "      <td>0.0</td>\n",
              "      <td>0.0</td>\n",
              "      <td>NaN</td>\n",
              "    </tr>\n",
              "    <tr>\n",
              "      <th>17034</th>\n",
              "      <td>26374</td>\n",
              "      <td>Zambia</td>\n",
              "      <td>-15.4167</td>\n",
              "      <td>28.2833</td>\n",
              "      <td>2020-03-16</td>\n",
              "      <td>0.0</td>\n",
              "      <td>0.0</td>\n",
              "      <td>NaN</td>\n",
              "    </tr>\n",
              "    <tr>\n",
              "      <th>17035</th>\n",
              "      <td>26375</td>\n",
              "      <td>Zambia</td>\n",
              "      <td>-15.4167</td>\n",
              "      <td>28.2833</td>\n",
              "      <td>2020-03-17</td>\n",
              "      <td>0.0</td>\n",
              "      <td>0.0</td>\n",
              "      <td>NaN</td>\n",
              "    </tr>\n",
              "    <tr>\n",
              "      <th>17036</th>\n",
              "      <td>26376</td>\n",
              "      <td>Zambia</td>\n",
              "      <td>-15.4167</td>\n",
              "      <td>28.2833</td>\n",
              "      <td>2020-03-18</td>\n",
              "      <td>2.0</td>\n",
              "      <td>0.0</td>\n",
              "      <td>0.0</td>\n",
              "    </tr>\n",
              "    <tr>\n",
              "      <th>17037</th>\n",
              "      <td>26377</td>\n",
              "      <td>Zambia</td>\n",
              "      <td>-15.4167</td>\n",
              "      <td>28.2833</td>\n",
              "      <td>2020-03-19</td>\n",
              "      <td>2.0</td>\n",
              "      <td>0.0</td>\n",
              "      <td>0.0</td>\n",
              "    </tr>\n",
              "    <tr>\n",
              "      <th>17038</th>\n",
              "      <td>26378</td>\n",
              "      <td>Zambia</td>\n",
              "      <td>-15.4167</td>\n",
              "      <td>28.2833</td>\n",
              "      <td>2020-03-20</td>\n",
              "      <td>2.0</td>\n",
              "      <td>0.0</td>\n",
              "      <td>0.0</td>\n",
              "    </tr>\n",
              "    <tr>\n",
              "      <th>17039</th>\n",
              "      <td>26379</td>\n",
              "      <td>Zambia</td>\n",
              "      <td>-15.4167</td>\n",
              "      <td>28.2833</td>\n",
              "      <td>2020-03-21</td>\n",
              "      <td>2.0</td>\n",
              "      <td>0.0</td>\n",
              "      <td>0.0</td>\n",
              "    </tr>\n",
              "  </tbody>\n",
              "</table>\n",
              "<p>120 rows × 8 columns</p>\n",
              "</div>"
            ],
            "text/plain": [
              "          Id Country/Region      Lat      Long        Date  ConfirmedCases  \\\n",
              "16920  26227        Vietnam  16.0000  108.0000  2020-01-22             0.0   \n",
              "16921  26228        Vietnam  16.0000  108.0000  2020-01-23             2.0   \n",
              "16922  26229        Vietnam  16.0000  108.0000  2020-01-24             2.0   \n",
              "16923  26230        Vietnam  16.0000  108.0000  2020-01-25             2.0   \n",
              "16924  26231        Vietnam  16.0000  108.0000  2020-01-26             2.0   \n",
              "16925  26232        Vietnam  16.0000  108.0000  2020-01-27             2.0   \n",
              "16926  26233        Vietnam  16.0000  108.0000  2020-01-28             2.0   \n",
              "16927  26234        Vietnam  16.0000  108.0000  2020-01-29             2.0   \n",
              "16928  26235        Vietnam  16.0000  108.0000  2020-01-30             2.0   \n",
              "16929  26236        Vietnam  16.0000  108.0000  2020-01-31             2.0   \n",
              "16930  26237        Vietnam  16.0000  108.0000  2020-02-01             6.0   \n",
              "16931  26238        Vietnam  16.0000  108.0000  2020-02-02             6.0   \n",
              "16932  26239        Vietnam  16.0000  108.0000  2020-02-03             8.0   \n",
              "16933  26240        Vietnam  16.0000  108.0000  2020-02-04             8.0   \n",
              "16934  26241        Vietnam  16.0000  108.0000  2020-02-05             8.0   \n",
              "16935  26242        Vietnam  16.0000  108.0000  2020-02-06            10.0   \n",
              "16936  26243        Vietnam  16.0000  108.0000  2020-02-07            10.0   \n",
              "16937  26244        Vietnam  16.0000  108.0000  2020-02-08            13.0   \n",
              "16938  26245        Vietnam  16.0000  108.0000  2020-02-09            13.0   \n",
              "16939  26246        Vietnam  16.0000  108.0000  2020-02-10            14.0   \n",
              "16940  26247        Vietnam  16.0000  108.0000  2020-02-11            15.0   \n",
              "16941  26248        Vietnam  16.0000  108.0000  2020-02-12            15.0   \n",
              "16942  26249        Vietnam  16.0000  108.0000  2020-02-13            16.0   \n",
              "16943  26250        Vietnam  16.0000  108.0000  2020-02-14            16.0   \n",
              "16944  26251        Vietnam  16.0000  108.0000  2020-02-15            16.0   \n",
              "16945  26252        Vietnam  16.0000  108.0000  2020-02-16            16.0   \n",
              "16946  26253        Vietnam  16.0000  108.0000  2020-02-17            16.0   \n",
              "16947  26254        Vietnam  16.0000  108.0000  2020-02-18            16.0   \n",
              "16948  26255        Vietnam  16.0000  108.0000  2020-02-19            16.0   \n",
              "16949  26256        Vietnam  16.0000  108.0000  2020-02-20            16.0   \n",
              "...      ...            ...      ...       ...         ...             ...   \n",
              "17010  26350         Zambia -15.4167   28.2833  2020-02-21             0.0   \n",
              "17011  26351         Zambia -15.4167   28.2833  2020-02-22             0.0   \n",
              "17012  26352         Zambia -15.4167   28.2833  2020-02-23             0.0   \n",
              "17013  26353         Zambia -15.4167   28.2833  2020-02-24             0.0   \n",
              "17014  26354         Zambia -15.4167   28.2833  2020-02-25             0.0   \n",
              "17015  26355         Zambia -15.4167   28.2833  2020-02-26             0.0   \n",
              "17016  26356         Zambia -15.4167   28.2833  2020-02-27             0.0   \n",
              "17017  26357         Zambia -15.4167   28.2833  2020-02-28             0.0   \n",
              "17018  26358         Zambia -15.4167   28.2833  2020-02-29             0.0   \n",
              "17019  26359         Zambia -15.4167   28.2833  2020-03-01             0.0   \n",
              "17020  26360         Zambia -15.4167   28.2833  2020-03-02             0.0   \n",
              "17021  26361         Zambia -15.4167   28.2833  2020-03-03             0.0   \n",
              "17022  26362         Zambia -15.4167   28.2833  2020-03-04             0.0   \n",
              "17023  26363         Zambia -15.4167   28.2833  2020-03-05             0.0   \n",
              "17024  26364         Zambia -15.4167   28.2833  2020-03-06             0.0   \n",
              "17025  26365         Zambia -15.4167   28.2833  2020-03-07             0.0   \n",
              "17026  26366         Zambia -15.4167   28.2833  2020-03-08             0.0   \n",
              "17027  26367         Zambia -15.4167   28.2833  2020-03-09             0.0   \n",
              "17028  26368         Zambia -15.4167   28.2833  2020-03-10             0.0   \n",
              "17029  26369         Zambia -15.4167   28.2833  2020-03-11             0.0   \n",
              "17030  26370         Zambia -15.4167   28.2833  2020-03-12             0.0   \n",
              "17031  26371         Zambia -15.4167   28.2833  2020-03-13             0.0   \n",
              "17032  26372         Zambia -15.4167   28.2833  2020-03-14             0.0   \n",
              "17033  26373         Zambia -15.4167   28.2833  2020-03-15             0.0   \n",
              "17034  26374         Zambia -15.4167   28.2833  2020-03-16             0.0   \n",
              "17035  26375         Zambia -15.4167   28.2833  2020-03-17             0.0   \n",
              "17036  26376         Zambia -15.4167   28.2833  2020-03-18             2.0   \n",
              "17037  26377         Zambia -15.4167   28.2833  2020-03-19             2.0   \n",
              "17038  26378         Zambia -15.4167   28.2833  2020-03-20             2.0   \n",
              "17039  26379         Zambia -15.4167   28.2833  2020-03-21             2.0   \n",
              "\n",
              "       Fatalities  Fataility ratio  \n",
              "16920         0.0              NaN  \n",
              "16921         0.0              0.0  \n",
              "16922         0.0              0.0  \n",
              "16923         0.0              0.0  \n",
              "16924         0.0              0.0  \n",
              "16925         0.0              0.0  \n",
              "16926         0.0              0.0  \n",
              "16927         0.0              0.0  \n",
              "16928         0.0              0.0  \n",
              "16929         0.0              0.0  \n",
              "16930         0.0              0.0  \n",
              "16931         0.0              0.0  \n",
              "16932         0.0              0.0  \n",
              "16933         0.0              0.0  \n",
              "16934         0.0              0.0  \n",
              "16935         0.0              0.0  \n",
              "16936         0.0              0.0  \n",
              "16937         0.0              0.0  \n",
              "16938         0.0              0.0  \n",
              "16939         0.0              0.0  \n",
              "16940         0.0              0.0  \n",
              "16941         0.0              0.0  \n",
              "16942         0.0              0.0  \n",
              "16943         0.0              0.0  \n",
              "16944         0.0              0.0  \n",
              "16945         0.0              0.0  \n",
              "16946         0.0              0.0  \n",
              "16947         0.0              0.0  \n",
              "16948         0.0              0.0  \n",
              "16949         0.0              0.0  \n",
              "...           ...              ...  \n",
              "17010         0.0              NaN  \n",
              "17011         0.0              NaN  \n",
              "17012         0.0              NaN  \n",
              "17013         0.0              NaN  \n",
              "17014         0.0              NaN  \n",
              "17015         0.0              NaN  \n",
              "17016         0.0              NaN  \n",
              "17017         0.0              NaN  \n",
              "17018         0.0              NaN  \n",
              "17019         0.0              NaN  \n",
              "17020         0.0              NaN  \n",
              "17021         0.0              NaN  \n",
              "17022         0.0              NaN  \n",
              "17023         0.0              NaN  \n",
              "17024         0.0              NaN  \n",
              "17025         0.0              NaN  \n",
              "17026         0.0              NaN  \n",
              "17027         0.0              NaN  \n",
              "17028         0.0              NaN  \n",
              "17029         0.0              NaN  \n",
              "17030         0.0              NaN  \n",
              "17031         0.0              NaN  \n",
              "17032         0.0              NaN  \n",
              "17033         0.0              NaN  \n",
              "17034         0.0              NaN  \n",
              "17035         0.0              NaN  \n",
              "17036         0.0              0.0  \n",
              "17037         0.0              0.0  \n",
              "17038         0.0              0.0  \n",
              "17039         0.0              0.0  \n",
              "\n",
              "[120 rows x 8 columns]"
            ]
          },
          "metadata": {
            "tags": []
          },
          "execution_count": 38
        }
      ]
    },
    {
      "cell_type": "code",
      "metadata": {
        "id": "ErY5or3a9r49",
        "colab_type": "code",
        "colab": {}
      },
      "source": [
        ""
      ],
      "execution_count": 0,
      "outputs": []
    }
  ]
}